{
  "nbformat": 4,
  "nbformat_minor": 0,
  "metadata": {
    "colab": {
      "provenance": [],
      "authorship_tag": "ABX9TyPIt6TsuHIYbkGgoh4Vnq7r",
      "include_colab_link": true
    },
    "kernelspec": {
      "name": "python3",
      "display_name": "Python 3"
    },
    "language_info": {
      "name": "python"
    }
  },
  "cells": [
    {
      "cell_type": "markdown",
      "metadata": {
        "id": "view-in-github",
        "colab_type": "text"
      },
      "source": [
        "<a href=\"https://colab.research.google.com/github/munazzaz/-Number-Guessing-Game/blob/main/Agentic_AI_Chatbot_Prototype_1.ipynb\" target=\"_parent\"><img src=\"https://colab.research.google.com/assets/colab-badge.svg\" alt=\"Open In Colab\"/></a>"
      ]
    },
    {
      "cell_type": "markdown",
      "source": [
        "# Chatbot Prototype for Healthcare Assistance\n",
        "\n",
        "This chatbot is a prototype designed to assist users in the healthcare niche. It leverages the power of Python, Langgraph, LangChain and Google’s Generative AI models to provide context-aware responses, fetch real-time data, and offer meaningful assistance for health-related inquiries.\n",
        "\n",
        "The chatbot has a modular structure, allowing it to integrate tools for fetching external data and enabling intelligent conversations with short-term memory.\n",
        "\n",
        "---\n",
        "\n",
        "## Features\n",
        "\n",
        "1. **Context-Aware Conversations**\n",
        "\n",
        "   - Uses LangChain’s conversational memory to provide coherent and context-aware replies.\n",
        "\n",
        "2. **Healthcare Focus**\n",
        "\n",
        "   - Specializes in health-related queries, providing tips, explanations, and useful information.\n",
        "\n",
        "3. **Tool Integration**\n",
        "\n",
        "   - Fetches real-time data, such as COVID-19 statistics.\n",
        "   - Modular design allows easy addition of new tools.\n",
        "\n",
        "4. **Short-Term Memory**\n",
        "\n",
        "   - Remembers the context of the conversation for better interactions during a single session.\n",
        "\n",
        "5. **Customizable for Other Niches**\n",
        "\n",
        "   - Though focused on healthcare, the chatbot can be easily adapted to assist users in other domains.\n",
        "\n",
        "6. **Basic Level Features**\n",
        "\n",
        "   - **REACT Architecture:** Understand how to build an AI chatbot prototype.\n",
        "   - **Prompt Engineering:** Learn how to use prompt engineering for smart and relevant conversations.\n",
        "   - **Tool Calling & Chat Management:** Understand and demonstrate Tool Calling using LLMs.\n",
        "   - **Short-Term Memory:** Manage chat conversations to improve user interactions.\n",
        "\n",
        "---\n",
        "\n",
        "## Tools and Their Use Cases\n",
        "\n",
        "### 1. **COVID-19 Statistics Fetcher**\n",
        "\n",
        "- **Functionality:** Retrieves real-time COVID-19 data based on user queries.\n",
        "- **Example Usage:**\n",
        "  - **User:** \"How many COVID-19 cases are there in Pakistan?\"\n",
        "  - **Chatbot:** \"There are 1,234 active cases in Pakistan as of today.\"\n",
        "\n",
        "### 4. **Health Tips Provider**\n",
        "\n",
        "- **Functionality:** Offers general health tips.\n",
        "- **Example Usage:**\n",
        "  - **User:** \"How can I improve my sleep?\"\n",
        "  - **Chatbot:** \"Ensure you have a consistent sleep schedule, avoid caffeine in the evening, and create a calming bedtime routine.\"\n",
        "\n",
        "---\n",
        "\n",
        "## Examples of How the Chatbot Can Help\n",
        "\n",
        "### Healthcare User\n",
        "\n",
        "- **Scenario:** A user wants health advice.\n",
        "  - **User:** \"What should I do to manage stress?\"\n",
        "  - **Chatbot:** \"You can manage stress by practicing mindfulness, exercising regularly, and maintaining a healthy work-life balance.\"\n",
        "\n",
        "### COVID-19 Updates\n",
        "\n",
        "- **Scenario:** A user needs the latest COVID-19 statistics.\n",
        "  - **User:** \"What are the current COVID-19 stats in Germany?\"\n",
        "  - **Chatbot:** \"There are 45,678 active cases in Germany as of today.\"\n",
        "\n",
        "---\n",
        "\n",
        "## User Story\n",
        "\n",
        "**As a healthcare user,** I want a chatbot that provides accurate health-related information and advice so that I can make informed decisions about my well-being.\n",
        "\n",
        "**Scenario:**\n",
        "- **User:** \"How can I boost my immune system?\"\n",
        "- **Chatbot:** \"You can boost your immune system by eating a balanced diet rich in fruits and vegetables, staying physically active, getting enough sleep, and managing stress effectively.\"\n",
        "\n",
        "**Scenario:**\n",
        "- **User:** \"What’s the best way to recover from a cold?\"\n",
        "- **Chatbot:** \"Stay hydrated, rest, and consider over-the-counter medications to alleviate symptoms. If symptoms persist, consult a healthcare professional.\"\n",
        "\n",
        "---\n",
        "\n",
        "## How to Use the Chatbot\n",
        "\n",
        "**Interact**\n",
        "\n",
        "   - Type your queries into the terminal or integrated UI.\n",
        "   - Receive intelligent, context-aware responses.\n",
        "\n",
        "\n",
        "\n",
        "Thank you for using the chatbot! We hope it serves your healthcare needs effectively.\n"
      ],
      "metadata": {
        "id": "S8NhJnqynkLu"
      }
    },
    {
      "cell_type": "markdown",
      "source": [
        "**Installing Required Packages**\n",
        "\n",
        "This installs all the necessary Python libraries to run the chatbot, such as:\n",
        "\n",
        "langchain and langchain_google_genai for building and interfacing with language models.\n",
        "langgraph for constructing a conversational flow graph.\n",
        "requests for making HTTP requests (used in the fetch_covid_stats function).\n"
      ],
      "metadata": {
        "id": "KKm95Kps_Fpu"
      }
    },
    {
      "cell_type": "code",
      "execution_count": 1,
      "metadata": {
        "id": "8tu4YFvQmm4L"
      },
      "outputs": [],
      "source": [
        "%%capture --no-stderr\n",
        "!pip install langchain_google_genai langchain python-dotenv google-generativeai langgraph graphviz requests --quiet"
      ]
    },
    {
      "cell_type": "markdown",
      "source": [
        "**Importing Libraries and Setting Up Environment**\n",
        "\n",
        "Imports essential libraries for:\n",
        "\n",
        "API interaction (requests).\n",
        "Memory management (ConversationBufferMemory).\n",
        "Building conversational graphs (langgraph).\n",
        "Displaying graph visuals (IPython.display.Image)."
      ],
      "metadata": {
        "id": "Cbp7n_W7ADaW"
      }
    },
    {
      "cell_type": "code",
      "source": [
        "import os\n",
        "import requests\n",
        "from langchain_google_genai import ChatGoogleGenerativeAI\n",
        "from langchain.memory import ConversationBufferMemory\n",
        "from langgraph.graph import StateGraph, START, END\n",
        "from langgraph.graph.message import add_messages\n",
        "from langchain.schema import HumanMessage, AIMessage\n",
        "from typing import Annotated\n",
        "from typing_extensions import TypedDict\n",
        "from google.colab import userdata\n",
        "from IPython.display import Image, display"
      ],
      "metadata": {
        "id": "SAH3FcGRnvYi"
      },
      "execution_count": 28,
      "outputs": []
    },
    {
      "cell_type": "markdown",
      "source": [
        "**Setting Environmental Variables or Secrets**\n",
        "\n",
        "Environment variables are set for accessing APIs securely, such as:\n",
        "\n",
        "LANGCHAIN_API_KEY for LangChain.\n",
        "GEMINI_API_KEY for Google’s Gemini API."
      ],
      "metadata": {
        "id": "umeiQWh0BI44"
      }
    },
    {
      "cell_type": "code",
      "source": [
        "# Set API Keys\n",
        "os.environ[\"LANGCHAIN_API_KEY\"] = userdata.get('LANGCHAIN_API_KEY')\n",
        "os.environ[\"LANGCHAIN_TRACING_V2\"] = \"true\"\n",
        "os.environ[\"LANGCHAIN_PROJECT\"] = \"quickstart\"\n",
        "\n",
        "gemini_api_key = userdata.get('GEMINI_API_KEY')\n",
        "\n",
        "# Initialize the LLM\n",
        "llm = ChatGoogleGenerativeAI(\n",
        "    model=\"gemini-1.5-flash\",\n",
        "    max_retries=2,\n",
        "    api_key=gemini_api_key\n",
        ")"
      ],
      "metadata": {
        "id": "sbAVtymhBFsA"
      },
      "execution_count": 40,
      "outputs": []
    },
    {
      "cell_type": "markdown",
      "source": [
        "**Fetching COVID-19 Statistics**\n",
        "\n",
        "Fetches real-time COVID-19 statistics for a given country using the Disease.sh API and formats the response in Markdown."
      ],
      "metadata": {
        "id": "WnAuRBhFBQcp"
      }
    },
    {
      "cell_type": "code",
      "source": [
        "def fetch_covid_stats(country: str):\n",
        "    base_url = \"https://disease.sh/v3/covid-19/countries/\"\n",
        "\n",
        "    try:\n",
        "        # Send request to fetch COVID-19 stats\n",
        "        response = requests.get(f\"{base_url}{country}\")\n",
        "        data = response.json()\n",
        "\n",
        "        # Handle API errors (e.g., country not found)\n",
        "        if \"message\" in data:\n",
        "            return f\"⚠️ I couldn't find COVID-19 data for '{country}'. Please check the country name and try again.\"\n",
        "\n",
        "        # Extract COVID-19 statistics\n",
        "        stats = {\n",
        "            \"Country\": data['country'],\n",
        "            \"Cases\": data['cases'],\n",
        "            \"Deaths\": data['deaths'],\n",
        "            \"Recovered\": data['recovered'],\n",
        "            \"Active Cases\": data['active'],\n",
        "            \"Population\": data['population']\n",
        "        }\n",
        "\n",
        "        # Format the response\n",
        "        response_text = (\n",
        "            f\"**COVID-19 Statistics for {stats['Country']}**\\n\"\n",
        "            f\"- 🦠 **Cases:** {stats['Cases']}\\n\"\n",
        "            f\"- 💀 **Deaths:** {stats['Deaths']}\\n\"\n",
        "            f\"- 💚 **Recovered:** {stats['Recovered']}\\n\"\n",
        "            f\"- 🏥 **Active Cases:** {stats['Active Cases']}\\n\"\n",
        "            f\"- 🌍 **Population:** {stats['Population']}\"\n",
        "        )\n",
        "\n",
        "        return response_text\n",
        "\n",
        "    except requests.exceptions.RequestException as e:\n",
        "        return \"⚠️ Unable to fetch COVID-19 statistics. Please try again later.\""
      ],
      "metadata": {
        "id": "Z4sFXclXnzXT"
      },
      "execution_count": 29,
      "outputs": []
    },
    {
      "cell_type": "markdown",
      "source": [
        "**Tool Selection Logic**\n",
        "\n",
        "Analyzes user input and determines which specific tool to invoke:\n",
        "\n",
        "Fetch COVID-19 stats.\n",
        "Perform calculations.\n",
        "Provide weather updates."
      ],
      "metadata": {
        "id": "ZjIY0yqWCBeH"
      }
    },
    {
      "cell_type": "code",
      "source": [
        "def call_tool(user_input: str) -> str:\n",
        "    \"\"\"\n",
        "    Determines which tool to call based on user input.\n",
        "    \"\"\"\n",
        "    if \"covid\" in user_input.lower():\n",
        "        country = user_input.split()[-1]  # Extract country name from the input\n",
        "        return fetch_covid_stats(country)\n",
        "    elif \"calculate\" in user_input.lower():\n",
        "        return \"🧮 *Calculations are handled here.*\"\n",
        "    elif \"weather\" in user_input.lower():\n",
        "        return \"🌤️ *Here is the current weather data.*\"\n",
        "    else:\n",
        "        return \"⚠️ *Tool could not process the request.*\"\n"
      ],
      "metadata": {
        "id": "ga0LQsrnoRtS"
      },
      "execution_count": 30,
      "outputs": []
    },
    {
      "cell_type": "markdown",
      "source": [
        "**State Memory and Chatbot Node**\n",
        "Manages the chatbot’s memory for the current conversation, storing all user and AI messages.\n",
        "Processes user inputs, checks for predefined keywords (like \"flu,\" \"headache\"), and invokes the appropriate response or tool. It uses the memory to maintain conversational context."
      ],
      "metadata": {
        "id": "zMYOp8qDCSnO"
      }
    },
    {
      "cell_type": "code",
      "source": [
        "class State(TypedDict):\n",
        "    messages: Annotated[list, add_messages]\n",
        "\n",
        "memory = ConversationBufferMemory(return_messages=True)  # Initialize memory\n",
        "\n",
        "def chatbot_node_with_memory(state: State):\n",
        "    \"\"\"\n",
        "    Handles chatbot responses, tool-calling, and short-term memory.\n",
        "    \"\"\"\n",
        "    user_input = state[\"messages\"][-1].content  # Extract user message content\n",
        "\n",
        "    # Predefined responses\n",
        "    responses = {\n",
        "        \"flu\": \"**Flu Symptoms:**\\n- Fever\\n- Chills\\n- Cough\\n- Sore throat\\n- Runny nose\\n- Body aches\\n- Fatigue\",\n",
        "        \"headache\": \"**Headache Causes:**\\n- Stress\\n- Dehydration\\n- Eye strain\\n\\n**Tip:** Rest and hydrate.\",\n",
        "        \"fever\": \"**Fever:**\\nFever is often caused by infections.\\n\\n**What to Do:**\\n- Rest\\n- Stay hydrated\\n- Monitor temperature\",\n",
        "        \"sleep\": \"**Sleep Guide:**\\nAdults need **7-9 hours** of sleep per night.\\n\\n**Benefits:**\\n- Boosts immunity\\n- Improves focus\\n- Enhances mood\",\n",
        "    }\n",
        "\n",
        "    # Check for keyword-based responses\n",
        "    for keyword, reply in responses.items():\n",
        "        if keyword in user_input.lower():\n",
        "            memory.chat_memory.add_user_message(user_input)\n",
        "            memory.chat_memory.add_ai_message(reply)\n",
        "            return {\"messages\": state[\"messages\"] + [AIMessage(content=reply)]}\n",
        "\n",
        "    # TOOL CALLING: Detect if a tool needs to be invoked\n",
        "    if \"covid\" in user_input.lower() or \"calculate\" in user_input.lower():\n",
        "        tool_output = call_tool(user_input)\n",
        "        memory.chat_memory.add_user_message(user_input)\n",
        "        memory.chat_memory.add_ai_message(tool_output)\n",
        "        return {\"messages\": state[\"messages\"] + [AIMessage(content=tool_output)]}\n",
        "\n",
        "    # Improved prompt for LLM\n",
        "    memory_context = memory.load_memory_variables({})\n",
        "    structured_prompt = f\"\"\"\n",
        "You are a helpful healthcare chatbot. Here is the conversation context:\n",
        "{memory_context.get('history', '')}\n",
        "\n",
        "User Query: {user_input}\n",
        "\n",
        "Provide a concise response in **Markdown format**:\n",
        "\"\"\"\n",
        "\n",
        "    try:\n",
        "        ai_response = llm.invoke(structured_prompt)\n",
        "        response = ai_response.content.strip()\n",
        "        memory.chat_memory.add_user_message(user_input)\n",
        "        memory.chat_memory.add_ai_message(response)\n",
        "    except Exception as e:\n",
        "        response = \"⚠️ *I'm sorry, I couldn't process that question.*\"\n",
        "\n",
        "    return {\"messages\": state[\"messages\"] + [AIMessage(content=response)]}\n"
      ],
      "metadata": {
        "id": "TVZFuaVQC38S"
      },
      "execution_count": null,
      "outputs": []
    },
    {
      "cell_type": "markdown",
      "source": [
        "**Graph Construction**\n",
        "\n",
        "Constructs a conversational flow graph using langgraph, linking the chatbot node to the start and end points of the dialogue.*italicised text*\n"
      ],
      "metadata": {
        "id": "uD3wXYqKEFPg"
      }
    },
    {
      "cell_type": "code",
      "source": [
        "graph_builder = StateGraph(State)\n",
        "graph_builder.add_node(\"chatbot_node\", chatbot_node_with_memory)\n",
        "graph_builder.add_edge(START, \"chatbot_node\")\n",
        "graph_builder.add_edge(\"chatbot_node\", END)\n",
        "\n",
        "# Compile the graph\n",
        "graph = graph_builder.compile()\n",
        "\n",
        "try:\n",
        "    display(Image(graph.get_graph().draw_mermaid_png()))\n",
        "except Exception as e:\n",
        "    print(\"Graph visualization failed:\", e)"
      ],
      "metadata": {
        "colab": {
          "base_uri": "https://localhost:8080/",
          "height": 251
        },
        "id": "OvkKDp_vopVH",
        "outputId": "1be513dc-4365-4a2c-ba12-0259ca210ba3"
      },
      "execution_count": 37,
      "outputs": [
        {
          "output_type": "display_data",
          "data": {
            "image/png": "[encoded data removed]",
            "text/plain": [
              "<IPython.core.display.Image object>"
            ]
          },
          "metadata": {}
        }
      ]
    },
    {
      "cell_type": "markdown",
      "source": [
        "**Healthcare Chatbot Function**\n",
        "\n",
        "The main chatbot function:\n",
        "Accepts user input in a loop.\n",
        "Routes input through the conversational graph.\n",
        "Displays the chatbot’s response.\n",
        "Exits gracefully when the user types \"exit\" or similar keywords."
      ],
      "metadata": {
        "id": "HxOzsNcgcyaI"
      }
    },
    {
      "cell_type": "code",
      "source": [
        "def healthcare_chatbot():\n",
        "    \"\"\"\n",
        "    A LangGraph-powered healthcare chatbot.\n",
        "    \"\"\"\n",
        "    print(\"👋 **Welcome to the Healthcare Chatbot!**\")\n",
        "    print(\"Ask me health-related questions or type 'exit', 'quit', or 'bye' to leave.\\n\")\n",
        "\n",
        "    conversation_state = {\"messages\": []}  # Initialize conversation state\n",
        "\n",
        "    while True:\n",
        "        try:\n",
        "            user_input = input(\"**You:** \").strip()\n",
        "\n",
        "            # Exit condition\n",
        "            if user_input.lower() in [\"exit\", \"quit\", \"bye\"]:\n",
        "                print(\"\\n👋 *Thank you for using the Healthcare Chatbot. Stay healthy!*\")\n",
        "                break\n",
        "\n",
        "            # Add user message and process\n",
        "            conversation_state[\"messages\"].append(HumanMessage(content=user_input))\n",
        "\n",
        "            for event in graph.stream(conversation_state):\n",
        "                for value in event.values():\n",
        "                    assistant_response = value[\"messages\"][-1].content\n",
        "                    print(f\"\\n🤖 **Chatbot Response:**\\n{assistant_response}\")\n",
        "                    conversation_state = value\n",
        "\n",
        "        except KeyboardInterrupt:\n",
        "            print(\"\\n👋 *Exiting the Healthcare Chatbot. Take care!*\")\n",
        "            break\n",
        "        except Exception as e:\n",
        "            print(f\"⚠️ *An error occurred:* {e}\")\n",
        "            break"
      ],
      "metadata": {
        "id": "xE5FBMqEotzJ"
      },
      "execution_count": 38,
      "outputs": []
    },
    {
      "cell_type": "markdown",
      "source": [
        "**Running the Chatbot**\n",
        "\n",
        "This block runs the chatbot by executing the healthcare_chatbot function.*italicised text*"
      ],
      "metadata": {
        "id": "-_hzGds6c_l1"
      }
    },
    {
      "cell_type": "code",
      "source": [
        "# Run the chatbot\n",
        "if __name__ == \"__main__\":\n",
        "    healthcare_chatbot()"
      ],
      "metadata": {
        "colab": {
          "base_uri": "https://localhost:8080/"
        },
        "id": "gLAvcfzkowqa",
        "outputId": "7af1da2c-7583-47de-99c0-c7cc07995454"
      },
      "execution_count": 39,
      "outputs": [
        {
          "output_type": "stream",
          "name": "stdout",
          "text": [
            "👋 **Welcome to the Healthcare Chatbot!**\n",
            "Ask me health-related questions or type 'exit', 'quit', or 'bye' to leave.\n",
            "\n",
            "**You:** What is cancer?\n",
            "\n",
            "🤖 **Chatbot Response:**\n",
            "**Cancer is a disease in which some of the body's cells grow uncontrollably and spread to other parts of the body.  There are many different types of cancer, depending on where the cancer begins.**\n",
            "**You:** What is stress? why it happens?\n",
            "\n",
            "🤖 **Chatbot Response:**\n",
            "**Stress is a feeling of being overwhelmed or unable to cope with demands.  It happens in response to various stressors – events or situations that trigger a physical and emotional reaction. These stressors can be physical (illness, injury), emotional (relationship problems, grief), or environmental (noise, deadlines).  The body's response involves the release of hormones like cortisol, preparing you for \"fight or flight,\" but chronic stress can negatively impact health.**\n",
            "**You:** How to take care of my health?\n",
            "\n",
            "🤖 **Chatbot Response:**\n",
            "**Taking care of your health involves several key areas: **\n",
            "\n",
            " Balanced Diet: **  Eat a variety of fruits, vegetables, whole grains, and lean proteins. Limit processed foods, sugary drinks, and unhealthy fats.\n",
            "\n",
            " Regular Exercise: ** Aim for at least 150 minutes of moderate-intensity or 75 minutes of vigorous-intensity aerobic activity per week, along with muscle-strengthening activities twice a week.\n",
            "\n",
            " Adequate Sleep: **  Get 7-9 hours of quality sleep each night.\n",
            "\n",
            " Stress Management: ** Practice relaxation techniques like deep breathing, meditation, or yoga.  Address stressors proactively.\n",
            "\n",
            " Regular Checkups: **  Schedule routine visits with your doctor for preventative care and screenings.\n",
            "\n",
            " Hydration: ** Drink plenty of water throughout the day.\n",
            "\n",
            " Avoid Harmful Substances: ** Limit or avoid alcohol, tobacco, and recreational drugs.\n",
            "\n",
            "\n",
            "This is general advice, and individual needs may vary. Consult your doctor for personalized recommendations.**\n",
            "**You:** I don't eat fruits is it ok? and eat only once in a day?\n",
            "\n",
            "🤖 **Chatbot Response:**\n",
            "**No, it's not okay to avoid fruits and eat only once a day.  A balanced diet with fruits and vegetables is crucial for overall health. Eating only once a day can lead to nutrient deficiencies and negatively impact your energy levels and metabolism.  Consult a doctor or registered dietitian for personalized dietary advice.**\n",
            "**You:** Can you make a helath diet plan for a 18 year old girl? \n",
            "\n",
            "🤖 **Chatbot Response:**\n",
            "**I cannot create a personalized health diet plan.  I am an AI and cannot provide medical advice.  A registered dietitian or doctor can assess the individual's needs (activity level, allergies, health conditions, etc.) and create a safe and effective plan for an 18-year-old girl.  This plan should include a variety of fruits, vegetables, whole grains, lean proteins, and healthy fats, distributed across multiple meals throughout the day.**\n",
            "**You:** What are the number of stats of COVID 19 in New Zealand?\n",
            "\n",
            "🤖 **Chatbot Response:**\n",
            "**COVID-19 Statistics for New Zealand\n",
            "- 🦠 Cases: ** 2621111\n",
            "- 💀 Deaths: ** 5697\n",
            "- 💚 Recovered: ** 2613791\n",
            "- 🏥 Active Cases: ** 1623\n",
            "- 🌍 Population: ** 4898203**\n",
            "\n",
            "👋 *Exiting the Healthcare Chatbot. Take care!*\n"
          ]
        }
      ]
    },
    {
      "cell_type": "code",
      "source": [],
      "metadata": {
        "id": "7hPHxtbvu6WX"
      },
      "execution_count": 22,
      "outputs": []
    }
  ]
}
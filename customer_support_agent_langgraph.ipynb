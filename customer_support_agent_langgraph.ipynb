{
  "cells": [
    {
      "cell_type": "markdown",
      "metadata": {
        "id": "view-in-github",
        "colab_type": "text"
      },
      "source": [
        "<a href=\"https://colab.research.google.com/github/munazzaz/-Number-Guessing-Game/blob/main/customer_support_agent_langgraph.ipynb\" target=\"_parent\"><img src=\"https://colab.research.google.com/assets/colab-badge.svg\" alt=\"Open In Colab\"/></a>"
      ]
    },
    {
      "cell_type": "markdown",
      "metadata": {
        "id": "j2W78QMaqJAL"
      },
      "source": [
        "# Building an Intelligent Customer Support Agent with LangGraph\n",
        "\n",
        "## Overview\n",
        "This tutorial demonstrates how to create an intelligent customer support agent using LangGraph, a powerful tool for building complex language model workflows. The agent is designed to categorize customer queries, analyze sentiment, and provide appropriate responses or escalate issues when necessary.\n",
        "\n",
        "## Motivation\n",
        "In today's fast-paced business environment, efficient and accurate customer support is crucial. Automating the initial stages of customer interaction can significantly reduce response times and improve overall customer satisfaction. This project aims to showcase how advanced language models and graph-based workflows can be combined to create a sophisticated support system that can handle a variety of customer inquiries.\n",
        "\n",
        "## Key Components\n",
        "1. **State Management**: Using TypedDict to define and manage the state of each customer interaction.\n",
        "2. **Query Categorization**: Classifying customer queries into Technical, Billing, or General categories.\n",
        "3. **Sentiment Analysis**: Determining the emotional tone of customer queries.\n",
        "4. **Response Generation**: Creating appropriate responses based on the query category and sentiment.\n",
        "5. **Escalation Mechanism**: Automatically escalating queries with negative sentiment to human agents.\n",
        "6. **Workflow Graph**: Utilizing LangGraph to create a flexible and extensible workflow.\n",
        "\n",
        "## Method Details\n",
        "1. **Initialization**: Set up the environment and import necessary libraries.\n",
        "2. **State Definition**: Create a structure to hold query information, category, sentiment, and response.\n",
        "3. **Node Functions**: Implement separate functions for categorization, sentiment analysis, and response generation.\n",
        "4. **Graph Construction**: Use StateGraph to define the workflow, adding nodes and edges to represent the support process.\n",
        "5. **Conditional Routing**: Implement logic to route queries based on their category and sentiment.\n",
        "6. **Workflow Compilation**: Compile the graph into an executable application.\n",
        "7. **Execution**: Process customer queries through the workflow and retrieve results.\n",
        "\n",
        "## Conclusion\n",
        "This tutorial demonstrates the power and flexibility of LangGraph in creating complex, AI-driven workflows. By combining natural language processing capabilities with a structured graph-based approach, we've created a customer support agent that can efficiently handle a wide range of queries. This system can be further extended and customized to meet specific business needs, potentially integrating with existing customer support tools and databases for even more sophisticated interactions.\n",
        "\n",
        "The approach showcased here has broad applications beyond customer support, illustrating how language models can be effectively orchestrated to solve complex, multi-step problems in various domains."
      ]
    },
    {
      "cell_type": "markdown",
      "metadata": {
        "id": "VUIz9SuiqJAN"
      },
      "source": [
        "## Import necessary libraries\n"
      ]
    },
    {
      "cell_type": "code",
      "source": [
        "%pip install -q -U langchain\n",
        "%pip install -q -U langgraph\n",
        "%pip install -q -U langchain-google-genai\n",
        "%pip install -q -U python-dotenv"
      ],
      "metadata": {
        "id": "GgVlWd0Ls64u",
        "colab": {
          "base_uri": "https://localhost:8080/"
        },
        "outputId": "e38924c6-88ea-4121-f3f5-1d182c788578"
      },
      "execution_count": 1,
      "outputs": [
        {
          "output_type": "stream",
          "name": "stdout",
          "text": [
            "\u001b[2K     \u001b[90m━━━━━━━━━━━━━━━━━━━━━━━━━━━━━━━━━━━━━━━━\u001b[0m \u001b[32m50.4/50.4 kB\u001b[0m \u001b[31m446.9 kB/s\u001b[0m eta \u001b[36m0:00:00\u001b[0m\n",
            "\u001b[2K   \u001b[90m━━━━━━━━━━━━━━━━━━━━━━━━━━━━━━━━━━━━━━━━\u001b[0m \u001b[32m1.0/1.0 MB\u001b[0m \u001b[31m19.9 MB/s\u001b[0m eta \u001b[36m0:00:00\u001b[0m\n",
            "\u001b[2K   \u001b[90m━━━━━━━━━━━━━━━━━━━━━━━━━━━━━━━━━━━━━━━━\u001b[0m \u001b[32m404.4/404.4 kB\u001b[0m \u001b[31m13.9 MB/s\u001b[0m eta \u001b[36m0:00:00\u001b[0m\n",
            "\u001b[2K   \u001b[90m━━━━━━━━━━━━━━━━━━━━━━━━━━━━━━━━━━━━━━━━\u001b[0m \u001b[32m295.8/295.8 kB\u001b[0m \u001b[31m9.6 MB/s\u001b[0m eta \u001b[36m0:00:00\u001b[0m\n",
            "\u001b[2K   \u001b[90m━━━━━━━━━━━━━━━━━━━━━━━━━━━━━━━━━━━━━━━━\u001b[0m \u001b[32m76.4/76.4 kB\u001b[0m \u001b[31m3.3 MB/s\u001b[0m eta \u001b[36m0:00:00\u001b[0m\n",
            "\u001b[2K   \u001b[90m━━━━━━━━━━━━━━━━━━━━━━━━━━━━━━━━━━━━━━━━\u001b[0m \u001b[32m78.0/78.0 kB\u001b[0m \u001b[31m2.4 MB/s\u001b[0m eta \u001b[36m0:00:00\u001b[0m\n",
            "\u001b[2K   \u001b[90m━━━━━━━━━━━━━━━━━━━━━━━━━━━━━━━━━━━━━━━━\u001b[0m \u001b[32m141.9/141.9 kB\u001b[0m \u001b[31m3.5 MB/s\u001b[0m eta \u001b[36m0:00:00\u001b[0m\n",
            "\u001b[2K   \u001b[90m━━━━━━━━━━━━━━━━━━━━━━━━━━━━━━━━━━━━━━━━\u001b[0m \u001b[32m54.5/54.5 kB\u001b[0m \u001b[31m1.6 MB/s\u001b[0m eta \u001b[36m0:00:00\u001b[0m\n",
            "\u001b[2K   \u001b[90m━━━━━━━━━━━━━━━━━━━━━━━━━━━━━━━━━━━━━━━━\u001b[0m \u001b[32m58.3/58.3 kB\u001b[0m \u001b[31m1.9 MB/s\u001b[0m eta \u001b[36m0:00:00\u001b[0m\n",
            "\u001b[2K   \u001b[90m━━━━━━━━━━━━━━━━━━━━━━━━━━━━━━━━━━━━━━━━\u001b[0m \u001b[32m108.7/108.7 kB\u001b[0m \u001b[31m4.9 MB/s\u001b[0m eta \u001b[36m0:00:00\u001b[0m\n",
            "\u001b[2K   \u001b[90m━━━━━━━━━━━━━━━━━━━━━━━━━━━━━━━━━━━━━━━━\u001b[0m \u001b[32m378.0/378.0 kB\u001b[0m \u001b[31m14.0 MB/s\u001b[0m eta \u001b[36m0:00:00\u001b[0m\n",
            "\u001b[2K   \u001b[90m━━━━━━━━━━━━━━━━━━━━━━━━━━━━━━━━━━━━━━━━\u001b[0m \u001b[32m40.4/40.4 kB\u001b[0m \u001b[31m1.0 MB/s\u001b[0m eta \u001b[36m0:00:00\u001b[0m\n",
            "\u001b[2K   \u001b[90m━━━━━━━━━━━━━━━━━━━━━━━━━━━━━━━━━━━━━━━━\u001b[0m \u001b[32m160.8/160.8 kB\u001b[0m \u001b[31m3.2 MB/s\u001b[0m eta \u001b[36m0:00:00\u001b[0m\n",
            "\u001b[2K   \u001b[90m━━━━━━━━━━━━━━━━━━━━━━━━━━━━━━━━━━━━━━━━\u001b[0m \u001b[32m760.0/760.0 kB\u001b[0m \u001b[31m24.7 MB/s\u001b[0m eta \u001b[36m0:00:00\u001b[0m\n",
            "\u001b[?25h"
          ]
        }
      ]
    },
    {
      "cell_type": "code",
      "execution_count": 2,
      "metadata": {
        "id": "lx8o62NBqJAO"
      },
      "outputs": [],
      "source": [
        "from typing import Dict, TypedDict\n",
        "from langgraph.graph import StateGraph, END\n",
        "from langchain_core.prompts import ChatPromptTemplate\n",
        "from langchain_google_genai import ChatGoogleGenerativeAI\n",
        "from IPython.display import display, Image\n",
        "from langchain_core.runnables.graph import MermaidDrawMethod\n",
        "from dotenv import load_dotenv\n",
        "import os\n",
        "\n",
        "# Load environment variables and set OpenAI API key\n"
      ]
    },
    {
      "cell_type": "code",
      "source": [
        "from google.colab import userdata\n",
        "\n",
        "# Access the GEMINI_API_KE from Colab's Secrets\n",
        "gemini_api_key = userdata.get(\"GEMINI_API_KEY\")  # Use the correct secret name\n",
        "\n",
        "# Verify it has been set correctly\n",
        "# print(\"Gemini API Key set successfully:\", gemini_api_key)\n"
      ],
      "metadata": {
        "id": "qouB78withRZ"
      },
      "execution_count": 3,
      "outputs": []
    },
    {
      "cell_type": "markdown",
      "metadata": {
        "id": "xHNZ0J4wqJAP"
      },
      "source": [
        "## Define State Structure\n",
        "\n",
        "We define a `State` class to hold the query, category, sentiment, and response for each customer interaction."
      ]
    },
    {
      "cell_type": "code",
      "execution_count": 4,
      "metadata": {
        "id": "RFwq3tRrqJAP"
      },
      "outputs": [],
      "source": [
        "class State(TypedDict):\n",
        "    query: str\n",
        "    category: str\n",
        "    sentiment: str\n",
        "    response: str\n",
        "\n"
      ]
    },
    {
      "cell_type": "code",
      "source": [
        "llm = ChatGoogleGenerativeAI(model=\"gemini-1.5-flash\", api_key = gemini_api_key)"
      ],
      "metadata": {
        "id": "5Sb69np9uG5J"
      },
      "execution_count": 5,
      "outputs": []
    },
    {
      "cell_type": "markdown",
      "metadata": {
        "id": "TRfKaDcfqJAP"
      },
      "source": [
        "## Define Node Functions\n",
        "\n",
        "These functions represent the different stages of processing a customer query."
      ]
    },
    {
      "cell_type": "code",
      "execution_count": 6,
      "metadata": {
        "id": "95OlMU9WqJAQ"
      },
      "outputs": [],
      "source": [
        "# # # Import necessary classes\n",
        "# # from langchain.prompts import ChatPromptTemplate\n",
        "from langchain.chains import LLMChain\n",
        "# # from langchain.chat_models import ChatGoogleGenerativeAI\n",
        "\n",
        "# # Initialize Gemini model\n",
        "# llm = ChatGoogleGenerativeAI(model=\"gemini-1.5-flash\", api_key=gemini_api_key)\n",
        "\n",
        "# def categorize(state: State) -> State:\n",
        "#     \"\"\"Categorize the customer query into Technical, Billing, or General.\"\"\"\n",
        "#     prompt = ChatPromptTemplate.from_template(\n",
        "#         \"Categorize the following customer query into one of these categories: \"\n",
        "#         \"Technical, Billing, General. Query: {query}\"\n",
        "#     )\n",
        "#     chain = LLMChain(llm=llm, prompt=prompt)\n",
        "#     category = chain.run({\"query\": state[\"query\"]})\n",
        "#     return {\"category\": category}\n",
        "\n",
        "# def analyze_sentiment(state: State) -> State:\n",
        "#     \"\"\"Analyze the sentiment of the customer query as Positive, Neutral, or Negative.\"\"\"\n",
        "#     prompt = ChatPromptTemplate.from_template(\n",
        "#         \"Analyze the sentiment of the following customer query. \"\n",
        "#         \"Respond with either 'Positive', 'Neutral', or 'Negative'. Query: {query}\"\n",
        "#     )\n",
        "#     chain = LLMChain(llm=llm, prompt=prompt)\n",
        "#     sentiment = chain.run({\"query\": state[\"query\"]})\n",
        "#     return {\"sentiment\": sentiment}\n",
        "\n",
        "\n",
        "# def handle_technical(state: State) -> State:\n",
        "#     \"\"\"Provide a technical support response to the query.\"\"\"\n",
        "#     prompt = ChatPromptTemplate.from_template(\n",
        "#         \"Provide a technical support response to the following query: {query}\"\n",
        "#     )\n",
        "#     chain = LLMChain(llm=llm, prompt=prompt)\n",
        "#     response = chain.run({\"query\": state[\"query\"]})\n",
        "#     return {\"response\": response}\n",
        "\n",
        "# def handle_billing(state: State) -> State:\n",
        "#     \"\"\"Provide a billing support response to the query.\"\"\"\n",
        "#     prompt = ChatPromptTemplate.from_template(\n",
        "#         \"Provide a billing support response to the following query: {query}\"\n",
        "#     )\n",
        "#     chain = LLMChain(llm=llm, prompt=prompt)\n",
        "#     response = chain.run({\"query\": state[\"query\"]})\n",
        "#     return {\"response\": response}\n",
        "\n",
        "# def handle_general(state: State) -> State:\n",
        "#     \"\"\"Provide a general support response to the query.\"\"\"\n",
        "#     prompt = ChatPromptTemplate.from_template(\n",
        "#         \"Provide a general support response to the following query: {query}\"\n",
        "#     )\n",
        "#     chain = LLMChain(llm=llm, prompt=prompt)\n",
        "#     response = chain.run({\"query\": state[\"query\"]})\n",
        "#     return {\"response\": response}\n",
        "\n",
        "# def escalate(state: State) -> State:\n",
        "#     \"\"\"Escalate the query to a human agent due to negative sentiment.\"\"\"\n",
        "#     return {\"response\": \"This query has been escalated to a human agent due to its negative sentiment.\"}\n",
        "\n",
        "# def route_query(state: State) -> str:\n",
        "#     \"\"\"Route the query based on its sentiment and category.\"\"\"\n",
        "#     if state[\"sentiment\"] == \"Negative\":\n",
        "#         return \"escalate\"\n",
        "#     elif state[\"category\"] == \"Technical\":\n",
        "#         return \"handle_technical\"\n",
        "#     elif state[\"category\"] == \"Billing\":\n",
        "#         return \"handle_billing\"\n",
        "#     else:\n",
        "#         return \"handle_general\"\n",
        "\n",
        "def categorize(state: State) -> State:\n",
        "    \"\"\"Categorize the customer query into Technical, Billing, General, Shipping and Delivery, or Sales and Promotions.\"\"\"\n",
        "    prompt = ChatPromptTemplate.from_template(\n",
        "        \"Categorize the following customer query into one of these categories: \"\n",
        "        \"Technical, Billing, General, Shipping and Delivery, Sales and Promotions. \"\n",
        "        \"Ensure to consider all keywords related to sales, discounts, or promotions. \"\n",
        "        \"Query: {query}\"\n",
        "    )\n",
        "    chain = LLMChain(llm=llm, prompt=prompt)\n",
        "    category = chain.run({\"query\": state[\"query\"]})\n",
        "    return {\"category\": category}\n",
        "\n",
        "\n",
        "def analyze_sentiment(state: State) -> State:\n",
        "    \"\"\"Analyze the sentiment of the customer query as Positive, Neutral, or Negative.\"\"\"\n",
        "    prompt = ChatPromptTemplate.from_template(\n",
        "        \"Analyze the sentiment of the following customer query. \"\n",
        "        \"Respond with either 'Positive', 'Neutral', or 'Negative'. Query: {query}\"\n",
        "    )\n",
        "    chain = LLMChain(llm=llm, prompt=prompt)\n",
        "    sentiment = chain.run({\"query\": state[\"query\"]})\n",
        "    return {\"sentiment\": sentiment}\n",
        "\n",
        "def handle_technical(state: State) -> State:\n",
        "    \"\"\"Provide a technical support response to the query.\"\"\"\n",
        "    prompt = ChatPromptTemplate.from_template(\n",
        "        \"Provide a technical support response to the following query: {query}\"\n",
        "    )\n",
        "    chain = LLMChain(llm=llm, prompt=prompt)\n",
        "    response = chain.run({\"query\": state[\"query\"]})\n",
        "    return {\"response\": response}\n",
        "\n",
        "def handle_billing(state: State) -> State:\n",
        "    \"\"\"Provide a billing support response to the query.\"\"\"\n",
        "    prompt = ChatPromptTemplate.from_template(\n",
        "        \"Provide a billing support response to the following query: {query}\"\n",
        "    )\n",
        "    chain = LLMChain(llm=llm, prompt=prompt)\n",
        "    response = chain.run({\"query\": state[\"query\"]})\n",
        "    return {\"response\": response}\n",
        "\n",
        "def handle_general(state: State) -> State:\n",
        "    \"\"\"Provide a general support response to the query.\"\"\"\n",
        "    prompt = ChatPromptTemplate.from_template(\n",
        "        \"Provide a general support response to the following query: {query}\"\n",
        "    )\n",
        "    chain = LLMChain(llm=llm, prompt=prompt)\n",
        "    response = chain.run({\"query\": state[\"query\"]})\n",
        "    return {\"response\": response}\n",
        "\n",
        "def handle_shipping(state: State) -> State:\n",
        "    \"\"\"Provide a shipping and delivery response to the query.\"\"\"\n",
        "    prompt = ChatPromptTemplate.from_template(\n",
        "        \"Provide a shipping and delivery support response to the following query: {query}\"\n",
        "    )\n",
        "    chain = LLMChain(llm=llm, prompt=prompt)\n",
        "    response = chain.run({\"query\": state[\"query\"]})\n",
        "    return {\"response\": response}\n",
        "\n",
        "def handle_sales(state: State) -> State:\n",
        "    \"\"\"Provide a sales and promotions response to the query.\"\"\"\n",
        "    prompt = ChatPromptTemplate.from_template(\n",
        "        \"Provide a sales and promotions response to the following query: {query}\"\n",
        "    )\n",
        "    chain = LLMChain(llm=llm, prompt=prompt)\n",
        "    response = chain.run({\"query\": state[\"query\"]})\n",
        "    return {\"response\": response}\n",
        "\n",
        "def escalate(state: State) -> State:\n",
        "    \"\"\"Escalate the query to a human agent due to negative sentiment.\"\"\"\n",
        "    return {\"response\": \"This query has been escalated to a human agent due to its negative sentiment.\"}\n",
        "\n",
        "def route_query(state: State) -> str:\n",
        "    \"\"\"Route the query based on its sentiment and category.\"\"\"\n",
        "    if state[\"sentiment\"] == \"Negative\":\n",
        "        return \"escalate\"\n",
        "    elif state[\"category\"] == \"Technical\":\n",
        "        return \"handle_technical\"\n",
        "    elif state[\"category\"] == \"Billing\":\n",
        "        return \"handle_billing\"\n",
        "    elif state[\"category\"] == \"Shipping and Delivery\":\n",
        "        return \"handle_shipping\"\n",
        "    elif state[\"category\"] == \"Sales and Promotions\":\n",
        "        return \"handle_sales\"  # Route to sales handling\n",
        "    else:\n",
        "        return \"handle_general\"\n"
      ]
    },
    {
      "cell_type": "markdown",
      "metadata": {
        "id": "wqtHlwRbqJAQ"
      },
      "source": [
        "## Create and Configure the Graph\n",
        "\n",
        "Here we set up the LangGraph, defining nodes and edges to create our customer support workflow."
      ]
    },
    {
      "cell_type": "code",
      "execution_count": 7,
      "metadata": {
        "id": "qR_fOxSCqJAQ"
      },
      "outputs": [],
      "source": [
        "# # Create the graph\n",
        "# workflow = StateGraph(State)\n",
        "\n",
        "# # Add nodes\n",
        "# workflow.add_node(\"categorize\", categorize)\n",
        "# workflow.add_node(\"analyze_sentiment\", analyze_sentiment)\n",
        "# workflow.add_node(\"handle_technical\", handle_technical)\n",
        "# workflow.add_node(\"handle_billing\", handle_billing)\n",
        "# workflow.add_node(\"handle_general\", handle_general)\n",
        "# # workflow.add_node(\"handle_coding\", handle_coding)\n",
        "# workflow.add_node(\"escalate\", escalate)\n",
        "\n",
        "# # Add edges\n",
        "# workflow.add_edge(\"categorize\", \"analyze_sentiment\")\n",
        "# workflow.add_conditional_edges(\n",
        "#     \"analyze_sentiment\",\n",
        "#     route_query,\n",
        "#     {\n",
        "#         \"handle_technical\": \"handle_technical\",\n",
        "#         \"handle_billing\": \"handle_billing\",\n",
        "#         \"handle_general\": \"handle_general\",\n",
        "#         \"escalate\": \"escalate\",\n",
        "\n",
        "#     }\n",
        "# )\n",
        "# workflow.add_edge(\"handle_technical\", END)\n",
        "# workflow.add_edge(\"handle_billing\", END)\n",
        "# workflow.add_edge(\"handle_general\", END)\n",
        "# workflow.add_edge(\"escalate\", END)\n",
        "\n",
        "\n",
        "# # Set entry point\n",
        "# workflow.set_entry_point(\"categorize\")\n",
        "\n",
        "# # Compile the graph\n",
        "# app = workflow.compile()\n",
        "\n",
        "workflow = StateGraph(State)\n",
        "\n",
        "# Add nodes\n",
        "workflow.add_node(\"categorize\", categorize)\n",
        "workflow.add_node(\"analyze_sentiment\", analyze_sentiment)\n",
        "workflow.add_node(\"handle_technical\", handle_technical)\n",
        "workflow.add_node(\"handle_billing\", handle_billing)\n",
        "workflow.add_node(\"handle_general\", handle_general)\n",
        "workflow.add_node(\"handle_shipping\", handle_shipping)  # Node for shipping inquiries\n",
        "workflow.add_node(\"handle_sales\", handle_sales)  # New node for sales inquiries\n",
        "workflow.add_node(\"escalate\", escalate)\n",
        "\n",
        "# Add edges\n",
        "workflow.add_edge(\"categorize\", \"analyze_sentiment\")\n",
        "workflow.add_conditional_edges(\n",
        "    \"analyze_sentiment\",\n",
        "    route_query,\n",
        "    {\n",
        "        \"handle_technical\": \"handle_technical\",\n",
        "        \"handle_billing\": \"handle_billing\",\n",
        "        \"handle_general\": \"handle_general\",\n",
        "        \"handle_shipping\": \"handle_shipping\",  # Connect shipping handling\n",
        "        \"handle_sales\": \"handle_sales\",  # Connect sales handling\n",
        "        \"escalate\": \"escalate\",\n",
        "    }\n",
        ")\n",
        "workflow.add_edge(\"handle_technical\", END)\n",
        "workflow.add_edge(\"handle_billing\", END)\n",
        "workflow.add_edge(\"handle_general\", END)\n",
        "workflow.add_edge(\"handle_shipping\", END)  # Connect shipping handling to the end\n",
        "workflow.add_edge(\"handle_sales\", END)  # Connect sales handling to the end\n",
        "workflow.add_edge(\"escalate\", END)\n",
        "\n",
        "# Set entry point\n",
        "workflow.set_entry_point(\"categorize\")\n",
        "\n",
        "# Compile the graph\n",
        "app = workflow.compile()\n",
        "\n"
      ]
    },
    {
      "cell_type": "markdown",
      "metadata": {
        "id": "pUnjlwWtqJAQ"
      },
      "source": [
        "## Visualize the Graph\n",
        "\n",
        "This cell generates and displays a visual representation of our LangGraph workflow."
      ]
    },
    {
      "cell_type": "code",
      "execution_count": 8,
      "metadata": {
        "id": "wZJqoOMAqJAQ",
        "outputId": "98e8aa13-e85d-43e5-c9aa-69a763d565c3",
        "colab": {
          "base_uri": "https://localhost:8080/",
          "height": 449
        }
      },
      "outputs": [
        {
          "output_type": "display_data",
          "data": {
            "image/jpeg": "[encoded data removed]",
            "text/plain": [
              "<IPython.core.display.Image object>"
            ]
          },
          "metadata": {}
        }
      ],
      "source": [
        "# Visualize the graph\n",
        "display(\n",
        "    Image(\n",
        "        app.get_graph().draw_mermaid_png(\n",
        "            draw_method=MermaidDrawMethod.API,\n",
        "        )\n",
        "    )\n",
        ")"
      ]
    },
    {
      "cell_type": "markdown",
      "metadata": {
        "id": "FOq2ezrOqJAR"
      },
      "source": [
        "## Run Customer Support Function\n",
        "\n",
        "This function processes a customer query through our LangGraph workflow."
      ]
    },
    {
      "cell_type": "code",
      "execution_count": 9,
      "metadata": {
        "id": "NNI3act_qJAR"
      },
      "outputs": [],
      "source": [
        "def run_customer_support(query: str) -> Dict[str, str]:\n",
        "    \"\"\"Process a customer query through the LangGraph workflow.\n",
        "\n",
        "    Args:\n",
        "        query (str): The customer's query\n",
        "\n",
        "    Returns:\n",
        "        Dict[str, str]: A dictionary containing the query's category, sentiment, and response\n",
        "    \"\"\"\n",
        "    results = app.invoke({\"query\": query})\n",
        "    return {\n",
        "        \"category\": results[\"category\"],\n",
        "        \"sentiment\": results[\"sentiment\"],\n",
        "        \"response\": results[\"response\"]\n",
        "    }\n"
      ]
    },
    {
      "cell_type": "markdown",
      "metadata": {
        "id": "dR6KfZpEqJAS"
      },
      "source": [
        "## Test the Customer Support Agent\n",
        "\n",
        "Let's test our customer support agent with a sample queries for each kind of query type."
      ]
    },
    {
      "cell_type": "code",
      "execution_count": 10,
      "metadata": {
        "id": "tVcnlVzMqJAS",
        "outputId": "161b8c20-c49e-4e34-aec5-5260efa8d64c",
        "colab": {
          "base_uri": "https://localhost:8080/"
        }
      },
      "outputs": [
        {
          "output_type": "stream",
          "name": "stderr",
          "text": [
            "<ipython-input-6-a2815e6c1b76>:80: LangChainDeprecationWarning: The class `LLMChain` was deprecated in LangChain 0.1.17 and will be removed in 1.0. Use :meth:`~RunnableSequence, e.g., `prompt | llm`` instead.\n",
            "  chain = LLMChain(llm=llm, prompt=prompt)\n",
            "<ipython-input-6-a2815e6c1b76>:81: LangChainDeprecationWarning: The method `Chain.run` was deprecated in langchain 0.1.0 and will be removed in 1.0. Use :meth:`~invoke` instead.\n",
            "  category = chain.run({\"query\": state[\"query\"]})\n"
          ]
        },
        {
          "output_type": "stream",
          "name": "stdout",
          "text": [
            "Query: My internet connection keeps dropping. Can you help?\n",
            "Category: **Technical** \n",
            "\n",
            "This query focuses on a problem with the internet connection, which falls under technical support. \n",
            "\n",
            "Sentiment: Negative \n",
            "\n",
            "Response: I understand your frustration with a constantly dropping internet connection. To help me pinpoint the issue, could you please tell me a little more about what's happening? For example:\n",
            "\n",
            "* **How often does your connection drop?** (e.g., every few minutes, a few times a day, etc.)\n",
            "* **How long does the connection drop last?** (e.g., a few seconds, a few minutes, etc.)\n",
            "* **What happens when the connection drops?** (e.g., complete internet outage, slow speeds, websites not loading, etc.)\n",
            "* **Are you using a wired or wireless connection?**\n",
            "* **Have you made any recent changes to your network or devices?**\n",
            "\n",
            "The more details you can provide, the better I can understand the problem and offer helpful suggestions. \n",
            "\n",
            "\n",
            "\n",
            "Query: Where is my order? It was supposed to arrive yesterday!\n",
            "Category: This query falls into the **Shipping and Delivery** category. \n",
            "\n",
            "While it doesn't mention specific sales or promotions, the focus is on the order's arrival and the expectation of it being delivered \"yesterday\". This clearly indicates a concern about the order's status and delivery timeline. \n",
            "\n",
            "Sentiment: Negative \n",
            "\n",
            "Response: Hi there, I understand your frustration! I'm sorry to hear your order hasn't arrived yet.  \n",
            "\n",
            "To help me locate your order, please provide me with your order number and the email address used for the order. \n",
            "\n",
            "Once I have that information, I'll be happy to check on the status for you and provide an update. \n",
            "\n",
            "\n",
            "\n",
            "Query: where can i find my receipt?\n",
            "Category: The query \"Where can I find my receipt?\" falls under the **Billing** category. \n",
            "\n",
            "While receipts are related to purchases, the question focuses on accessing a document that proves the purchase occurred and details the transaction. This aligns directly with billing-related inquiries. \n",
            "\n",
            "Sentiment: Neutral \n",
            "\n",
            "Response: I understand you're looking for your receipt. To help me find it for you, please tell me:\n",
            "\n",
            "* **Where did you make the purchase?** (e.g., online, in-store, specific store name)\n",
            "* **When did you make the purchase?** (e.g., date, approximate time)\n",
            "* **What did you purchase?** (e.g., product name, order number)\n",
            "\n",
            "Once I have this information, I can give you more specific guidance on how to find your receipt. \n",
            "\n",
            "\n",
            "\n",
            "Query: What are your business hours?\n",
            "Category: **General** \n",
            "\n",
            "While the query doesn't directly mention sales, discounts, or promotions, it falls under the general category as it seeks information about the business's operating hours, a common general inquiry. \n",
            "\n",
            "Sentiment: Neutral \n",
            "\n",
            "Response: Thank you for reaching out!  We're happy to help.  To best assist you, could you please tell me what service or department you're inquiring about?  Our hours vary depending on the department.  Once you provide a little more context, I can give you the specific hours you need. \n",
            "\n",
            "\n",
            "\n",
            "Query: How do I fix a TypeError in Python?\n",
            "Category: This query falls under **Technical**. \n",
            "\n",
            "While the query mentions \"Python\", it's not related to any product or service offered by a company. It's a programming question seeking technical assistance with an error in the Python programming language. \n",
            "\n",
            "Sentiment: Neutral \n",
            "\n",
            "Response: A TypeError in Python indicates that you're trying to perform an operation on an object of an inappropriate type. To fix a TypeError, you need to identify the specific cause of the error. Here's a breakdown of how to approach it:\n",
            "\n",
            "**1. Understand the Error Message:**\n",
            "\n",
            "* **Read the error message carefully.** It will tell you what type of operation you're trying to perform and what type of object is causing the issue. For example, \"TypeError: 'str' object cannot be interpreted as an integer\" means you're trying to use a string (text) where an integer (number) is expected.\n",
            "* **Look at the line of code where the error occurred.** This will help you pinpoint the problematic operation.\n",
            "\n",
            "**2. Common Causes and Solutions:**\n",
            "\n",
            "* **Type Mismatch:**\n",
            "    * **Solution:** Ensure that the data types involved in your operation are compatible. Convert values to the correct type using functions like `int()`, `float()`, `str()`, etc.\n",
            "* **Incorrect Function Arguments:**\n",
            "    * **Solution:** Check the documentation of the function you're using to understand the expected data types for its arguments.\n",
            "* **Missing or Incorrect Import:**\n",
            "    * **Solution:** If the error involves a function or class from a specific module, make sure you've imported it correctly (`import module_name`).\n",
            "* **Object Attribute Access:**\n",
            "    * **Solution:** Verify that you're trying to access an attribute that actually exists on the object and that the attribute is of the correct type.\n",
            "* **Incorrect Indexing:**\n",
            "    * **Solution:** Make sure you're using valid indices for lists, tuples, or strings.\n",
            "\n",
            "**3. Debugging Techniques:**\n",
            "\n",
            "* **Print Statements:** Use `print()` statements to display the values of variables and objects to check their types and values.\n",
            "* **Type Checking:** Use the `type()` function to explicitly check the type of an object.\n",
            "* **Online Resources:** Search for the specific error message online to find solutions and explanations.\n",
            "\n",
            "**Example:**\n",
            "\n",
            "Let's say you get the error \"TypeError: 'str' object cannot be interpreted as an integer\". This means you're trying to use a string like \"10\" as if it were an integer.\n",
            "\n",
            "**Solution:**\n",
            "\n",
            "```python\n",
            "# Incorrect:\n",
            "my_string = \"10\"\n",
            "result = my_string + 5  # TypeError\n",
            "\n",
            "# Correct:\n",
            "my_string = \"10\"\n",
            "result = int(my_string) + 5  # Convert the string to an integer\n",
            "```\n",
            "\n",
            "**Remember:**\n",
            "\n",
            "* Python is strongly typed, meaning data types matter.\n",
            "* The error message is your guide to fixing the issue.\n",
            "* Use debugging techniques to help you pinpoint the problem.\n",
            "\n",
            "If you can provide the specific error message and the relevant code snippet, I can offer more tailored assistance. \n",
            "\n",
            "\n",
            "\n"
          ]
        },
        {
          "output_type": "stream",
          "name": "stderr",
          "text": [
            "WARNING:langchain_google_genai.chat_models:Retrying langchain_google_genai.chat_models._chat_with_retry.<locals>._chat_with_retry in 2.0 seconds as it raised ResourceExhausted: 429 Resource has been exhausted (e.g. check quota)..\n"
          ]
        },
        {
          "output_type": "stream",
          "name": "stdout",
          "text": [
            "Query: Are there any ongoing promotions or discounts?\n",
            "Category: **Sales and Promotions** \n",
            "\n",
            "This query directly asks about promotions and discounts, which are clearly related to sales and promotions. \n",
            "\n",
            "Sentiment: Neutral \n",
            "\n",
            "Response: We do have ongoing promotions and discounts! To get the most up-to-date information, I recommend checking our website [link to website] or contacting our customer service team at [phone number or email address]. They'll be happy to help you find the best deals available. \n",
            "\n"
          ]
        }
      ],
      "source": [
        "# # escalate\n",
        "\n",
        "# query = \"My internet connection keeps dropping. Can you help?\"\n",
        "# result = run_customer_support(query)\n",
        "# print(f\"Query: {query}\")\n",
        "# print(f\"Category: {result['category']}\")\n",
        "# print(f\"Sentiment: {result['sentiment']}\")\n",
        "# print(f\"Response: {result['response']}\")\n",
        "# print(\"\\n\")\n",
        "\n",
        "query = \"My internet connection keeps dropping. Can you help?\"\n",
        "result = run_customer_support(query)\n",
        "print(f\"Query: {query}\")\n",
        "print(f\"Category: {result['category']}\")\n",
        "print(f\"Sentiment: {result['sentiment']}\")\n",
        "print(f\"Response: {result['response']}\")\n",
        "print(\"\\n\")\n",
        "\n",
        "query = \"Where is my order? It was supposed to arrive yesterday!\"\n",
        "result = run_customer_support(query)\n",
        "print(f\"Query: {query}\")\n",
        "print(f\"Category: {result['category']}\")\n",
        "print(f\"Sentiment: {result['sentiment']}\")\n",
        "print(f\"Response: {result['response']}\")\n",
        "print(\"\\n\")\n",
        "\n",
        "\n",
        "# query = \"¿Cómo puedo acceder a mi recibo?\"\n",
        "# result = run_customer_support(query)\n",
        "# print(f\"Query: {query}\")\n",
        "# print(f\"Category: {result['category']}\")\n",
        "# print(f\"Sentiment: {result['sentiment']}\")\n",
        "# print(f\"Response: {result['response']}\")\n",
        "# print(\"\\n\")\n",
        "\n",
        "# handle_billing\n",
        "\n",
        "query = \"where can i find my receipt?\"\n",
        "result = run_customer_support(query)\n",
        "print(f\"Query: {query}\")\n",
        "print(f\"Category: {result['category']}\")\n",
        "print(f\"Sentiment: {result['sentiment']}\")\n",
        "print(f\"Response: {result['response']}\")\n",
        "print(\"\\n\")\n",
        "\n",
        "# handle_general\n",
        "\n",
        "query = \"What are your business hours?\"\n",
        "result = run_customer_support(query)\n",
        "print(f\"Query: {query}\")\n",
        "print(f\"Category: {result['category']}\")\n",
        "print(f\"Sentiment: {result['sentiment']}\")\n",
        "print(f\"Response: {result['response']}\")\n",
        "print(\"\\n\")\n",
        "\n",
        "query = \"How do I fix a TypeError in Python?\"\n",
        "result = run_customer_support(query)\n",
        "print(f\"Query: {query}\")\n",
        "print(f\"Category: {result['category']}\")\n",
        "print(f\"Sentiment: {result['sentiment']}\")\n",
        "print(f\"Response: {result['response']}\")\n",
        "print(\"\\n\")\n",
        "\n",
        "query = \"Are there any ongoing promotions or discounts?\"\n",
        "result = run_customer_support(query)\n",
        "print(f\"Query: {query}\")\n",
        "print(f\"Category: {result['category']}\")\n",
        "print(f\"Sentiment: {result['sentiment']}\")\n",
        "print(f\"Response: {result['response']}\")\n",
        "\n",
        "\n"
      ]
    },
    {
      "cell_type": "code",
      "source": [],
      "metadata": {
        "id": "lRtgsqCgz4ND"
      },
      "execution_count": null,
      "outputs": []
    }
  ],
  "metadata": {
    "kernelspec": {
      "display_name": ".venv",
      "language": "python",
      "name": "python3"
    },
    "language_info": {
      "codemirror_mode": {
        "name": "ipython",
        "version": 3
      },
      "file_extension": ".py",
      "mimetype": "text/x-python",
      "name": "python",
      "nbconvert_exporter": "python",
      "pygments_lexer": "ipython3",
      "version": "3.12.0"
    },
    "colab": {
      "provenance": [],
      "include_colab_link": true
    }
  },
  "nbformat": 4,
  "nbformat_minor": 0
}
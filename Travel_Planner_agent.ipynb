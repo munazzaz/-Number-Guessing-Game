{
  "nbformat": 4,
  "nbformat_minor": 0,
  "metadata": {
    "colab": {
      "provenance": [],
      "authorship_tag": "ABX9TyMruZTXMn5PmT/E5WA6JQ+l",
      "include_colab_link": true
    },
    "kernelspec": {
      "name": "python3",
      "display_name": "Python 3"
    },
    "language_info": {
      "name": "python"
    }
  },
  "cells": [
    {
      "cell_type": "markdown",
      "metadata": {
        "id": "view-in-github",
        "colab_type": "text"
      },
      "source": [
        "<a href=\"https://colab.research.google.com/github/munazzaz/-Number-Guessing-Game/blob/main/Travel_Planner_agent.ipynb\" target=\"_parent\"><img src=\"https://colab.research.google.com/assets/colab-badge.svg\" alt=\"Open In Colab\"/></a>"
      ]
    },
    {
      "cell_type": "code",
      "source": [
        "%pip install -q -U langchain\n",
        "%pip install -q -U langgraph\n",
        "%pip install -q -U langchain-google-genai\n",
        "%pip install -q -U python-dotenv"
      ],
      "metadata": {
        "id": "nsqWsjA40cNJ"
      },
      "execution_count": 1,
      "outputs": []
    },
    {
      "cell_type": "code",
      "execution_count": 2,
      "metadata": {
        "id": "C6QtVQR0zsrd"
      },
      "outputs": [],
      "source": [
        "import os\n",
        "from typing import TypedDict, Annotated, List\n",
        "from langgraph.graph import StateGraph, END\n",
        "from langchain_core.messages import HumanMessage, AIMessage\n",
        "from langchain_core.prompts import ChatPromptTemplate\n",
        "from langchain_google_genai import ChatGoogleGenerativeAI\n",
        "from langchain_core.runnables.graph import MermaidDrawMethod\n",
        "from IPython.display import display, Image\n",
        "from dotenv import load_dotenv"
      ]
    },
    {
      "cell_type": "code",
      "source": [
        "import os\n",
        "from google.colab import userdata\n",
        "\n",
        "# Access the GEMINI_API_KE from Colab's Secrets\n",
        "gemini_api_key = userdata.get(\"GEMINI_API_KEY\")  # Use the correct secret name\n",
        "\n",
        "# Verify it has been set correctly\n",
        "print(\"Gemini API Key set successfully:\")"
      ],
      "metadata": {
        "colab": {
          "base_uri": "https://localhost:8080/"
        },
        "id": "XVKvbq_Rk21M",
        "outputId": "b2104441-0a88-476a-a928-cbae18a892e7"
      },
      "execution_count": 3,
      "outputs": [
        {
          "output_type": "stream",
          "name": "stdout",
          "text": [
            "Gemini API Key set successfully:\n"
          ]
        }
      ]
    },
    {
      "cell_type": "code",
      "source": [
        "# class PlannerState(TypedDict):\n",
        "#     messages: Annotated[List[HumanMessage | AIMessage], \"The messages in the conversation\"]\n",
        "#     city: str\n",
        "#     interests: List[str]\n",
        "#     itinerary: str\n",
        "\n",
        "class PlannerState(TypedDict):\n",
        "    messages: Annotated[List[HumanMessage | AIMessage], \"The messages in the conversation\"]\n",
        "    city: str\n",
        "    interests: List[str]\n",
        "    days: int  # New field for the number of days\n",
        "    itineraries: List[str]  # New field for storing multiple itineraries\n"
      ],
      "metadata": {
        "id": "YAZLijJn1ESU"
      },
      "execution_count": 4,
      "outputs": []
    },
    {
      "cell_type": "code",
      "source": [
        "from langchain_google_genai import ChatGoogleGenerativeAI\n",
        "\n",
        "llm = ChatGoogleGenerativeAI(model=\"gemini-1.5-flash\", api_key = gemini_api_key)\n",
        "itinerary_prompt = ChatPromptTemplate.from_messages([\n",
        "    (\"system\", \"You are a helpful travel assistant. Create a detailed day-by-day itinerary for {city} over {days} days based on the user's interests: {interests}. The itinerary should include specific recommendations for activities, places to visit, and dining options.\"),\n",
        "    (\"human\", \"Create an itinerary for my day trip.\"),\n",
        "])"
      ],
      "metadata": {
        "id": "yf3mMYnH1J48"
      },
      "execution_count": 5,
      "outputs": []
    },
    {
      "cell_type": "code",
      "source": [
        "def input_city(state: PlannerState) -> PlannerState:\n",
        "    print(\"Please enter the city you want to visit for your day trip:\")\n",
        "    user_message = input(\"Your input: \")\n",
        "    return {\n",
        "        **state,\n",
        "        \"city\": user_message,\n",
        "        \"messages\": state['messages'] + [HumanMessage(content=user_message)],\n",
        "    }\n",
        "\n",
        "def input_interests(state: PlannerState) -> PlannerState:\n",
        "    print(f\"Please enter your interests for the trip to {state['city']} (comma-separated):\")\n",
        "    user_message = input(\"Your input: \")\n",
        "    return {\n",
        "        **state,\n",
        "        \"interests\": [interest.strip() for interest in user_message.split(',')],\n",
        "        \"messages\": state['messages'] + [HumanMessage(content=user_message)],\n",
        "    }\n",
        "\n",
        "def input_days(state: PlannerState) -> PlannerState:\n",
        "    print(f\"How many days do you plan to stay in {state['city']}?\")\n",
        "    user_message = input(\"Your input: \")\n",
        "    days = int(user_message)  # Convert input to integer\n",
        "    return {\n",
        "        **state,\n",
        "        \"days\": days,\n",
        "        \"messages\": state['messages'] + [HumanMessage(content=f\"{days} days\")],\n",
        "        \"itineraries\": []  # Initialize an empty list for itineraries\n",
        "    }\n",
        "\n",
        "# def create_itinerary(state: PlannerState) -> PlannerState:\n",
        "#     print(f\"Creating itineraries for {state['city']} over {state['days']} days based on interests: {', '.join(state['interests'])}...\")\n",
        "\n",
        "#     for day in range(1, state['days'] + 1):\n",
        "#         response = llm.invoke(itinerary_prompt.format_messages(\n",
        "#             city=state['city'],\n",
        "#             interests=\", \".join(state['interests']),\n",
        "#             days=state['days']\n",
        "#         ))\n",
        "#         print(f\"\\nDay {day} Itinerary:\")\n",
        "#         print(response.content)\n",
        "#         state['itineraries'].append(f\"Day {day}:\\n{response.content}\")\n",
        "\n",
        "#     return {\n",
        "#         **state,\n",
        "#         \"messages\": state['messages'] + [AIMessage(content=\"\\n\".join(state['itineraries']))]\n",
        "#     }\n",
        "\n",
        "def create_itinerary(state: PlannerState) -> PlannerState:\n",
        "    print(f\"Creating itineraries for {state['city']} over {state['days']} days based on interests: {', '.join(state['interests'])}...\")\n",
        "\n",
        "    for day in range(1, state['days'] + 1):\n",
        "        response = llm.invoke(itinerary_prompt.format_messages(\n",
        "            city=state['city'],\n",
        "            interests=\", \".join(state['interests']),\n",
        "            days=state['days'],\n",
        "            budget=state.get('budget', 'moderate')  # Default to 'moderate'\n",
        "        ))\n",
        "        print(f\"\\nDay {day} Itinerary:\")\n",
        "        print(response.content)\n",
        "        state['itineraries'].append(f\"Day {day}:\\n{response.content}\")\n",
        "\n",
        "    return {\n",
        "        **state,\n",
        "        \"messages\": state['messages'] + [AIMessage(content=\"\\n\".join(state['itineraries']))]\n",
        "    }\n",
        "\n",
        "# def create_itinerary(state: PlannerState) -> PlannerState:\n",
        "#     print(f\"Creating itineraries for {state['city']} over {state['days']} days based on interests: {', '.join(state['interests'])}...\")\n",
        "\n",
        "#     for day in range(1, state['days'] + 1):\n",
        "#         response = llm.invoke(itinerary_prompt.format_messages(city=state['city'], interests=\", \".join(state['interests'])))\n",
        "#         print(f\"\\nDay {day} Itinerary:\")\n",
        "#         print(response.content)\n",
        "#         state['itineraries'].append(f\"Day {day}:\\n{response.content}\")\n",
        "\n",
        "#     return {\n",
        "#         **state,\n",
        "#         \"messages\": state['messages'] + [AIMessage(content=\"\\n\".join(state['itineraries']))]\n",
        "#     }"
      ],
      "metadata": {
        "id": "-IBiX1Dpliar"
      },
      "execution_count": 17,
      "outputs": []
    },
    {
      "cell_type": "code",
      "source": [
        "# workflow = StateGraph(PlannerState)\n",
        "\n",
        "# workflow.add_node(\"input_city\", input_city)\n",
        "# workflow.add_node(\"input_interests\", input_interests)\n",
        "# workflow.add_node(\"create_itinerary\", create_itinerary)\n",
        "# workflow.add_node(\"input_days\", input_days)\n",
        "# workflow.add_node(\"input_budget\", input_budget)\n",
        "\n",
        "# workflow.set_entry_point(\"input_city\")\n",
        "\n",
        "# workflow.add_edge(\"input_city\", \"input_days\")  # After city input, ask for number of days\n",
        "# workflow.add_edge(\"input_days\", \"input_interests\")  # Then ask for interests\n",
        "# workflow.add_edge(\"input_interests\", \"input_budget\")  # Then ask for budget\n",
        "# workflow.add_edge(\"input_budget\", \"create_itinerary\")  # Then generate the itinerary\n",
        "# workflow.add_edge(\"create_itinerary\", END)  # End after itinerary creation\n",
        "\n",
        "\n",
        "workflow = StateGraph(PlannerState)\n",
        "\n",
        "# Define each state (input functions)\n",
        "workflow.add_node(\"input_city\", input_city)\n",
        "workflow.add_node(\"input_interests\", input_interests)\n",
        "workflow.add_node(\"create_itinerary\", create_itinerary)\n",
        "workflow.add_node(\"input_days\", input_days)\n",
        "# workflow.add_node(\"input_budget\", input_budget)  # Uncomment if budget step is needed\n",
        "\n",
        "# Set the entry point\n",
        "workflow.set_entry_point(\"input_city\")\n",
        "\n",
        "# Define workflow transitions\n",
        "workflow.add_edge(\"input_city\", \"input_days\")          # After city input, ask for number of days\n",
        "workflow.add_edge(\"input_days\", \"input_interests\")     # Then ask for interests\n",
        "workflow.add_edge(\"input_interests\", \"create_itinerary\")  # Finally, generate the itinerary\n",
        "# workflow.add_edge(\"input_interests\", \"input_budget\")  # If budget is included\n",
        "# workflow.add_edge(\"input_budget\", \"create_itinerary\")  # Then generate the itinerary\n",
        "\n",
        "# End workflow after itinerary creation\n",
        "workflow.add_edge(\"create_itinerary\", END)\n",
        "\n",
        "# Compile the workflow\n",
        "app = workflow.compile()\n",
        "\n",
        "\n",
        "\n",
        "# workflow = StateGraph(PlannerState)\n",
        "\n",
        "# workflow.add_node(\"input_city\", input_city)\n",
        "# workflow.add_node(\"input_interests\", input_interests)\n",
        "# workflow.add_node(\"create_itinerary\", create_itinerary)\n",
        "# workflow.add_node(\"input_days\", input_days)\n",
        "# # workflow.add_node(\"input_budget\", input_budget)\n",
        "\n",
        "# workflow.set_entry_point(\"input_city\")\n",
        "\n",
        "# workflow.add_edge(\"input_city\", \"input_days\")  # After city input, ask for number of days\n",
        "# workflow.add_edge(\"input_days\", \"input_interests\")  # Then ask for interests\n",
        "# workflow.add_edge(\"input_interests\", \"create_itinerary\")  # Finally, generate the itinerary\n",
        "# # Modify the flow to include the budget input\n",
        "# # workflow.add_edge(\"input_interests\", \"input_budget\")  # After interests, ask for budget\n",
        "# # workflow.add_edge(\"input_budget\", \"create_itinerary\")  # Then generate the itinerary\n",
        "# # workflow.add_edge(\"create_itinerary\", END)  # End after itinerary creation\n",
        "# workflow.add_edge(\"input_city\", \"input_interests\")\n",
        "# workflow.add_edge(\"input_interests\", \"create_itinerary\")\n",
        "# workflow.add_edge(\"create_itinerary\", END)\n",
        "\n",
        "# app = workflow.compile()"
      ],
      "metadata": {
        "id": "IZ7NjJ0alt0a"
      },
      "execution_count": 18,
      "outputs": []
    },
    {
      "cell_type": "code",
      "source": [
        "display(\n",
        "    Image(\n",
        "        app.get_graph().draw_mermaid_png(\n",
        "            draw_method=MermaidDrawMethod.API,\n",
        "        )\n",
        "    )\n",
        ")"
      ],
      "metadata": {
        "colab": {
          "base_uri": "https://localhost:8080/",
          "height": 548
        },
        "id": "GdCK8f0hlwto",
        "outputId": "4a36c45d-c728-4be4-cc1a-fa3956117ae8"
      },
      "execution_count": 19,
      "outputs": [
        {
          "output_type": "display_data",
          "data": {
            "image/jpeg": "[encoded data removed]",
            "text/plain": [
              "<IPython.core.display.Image object>"
            ]
          },
          "metadata": {}
        }
      ]
    },
    {
      "cell_type": "code",
      "source": [
        "# def run_travel_planner(user_request: str):\n",
        "#     print(f\"Initial Request: {user_request}\\n\")\n",
        "#     state = {\n",
        "#         \"messages\": [HumanMessage(content=user_request)],\n",
        "#         \"city\": \"\",\n",
        "#         \"interests\": [],\n",
        "#         \"itinerary\": \"\",\n",
        "#     }\n",
        "\n",
        "#     for output in app.stream(state):\n",
        "#         pass  # The nodes themselves now handle all printing\n",
        "\n",
        "def run_travel_planner(user_request: str):\n",
        "    print(f\"Initial Request: {user_request}\\n\")\n",
        "    state = {\n",
        "        \"messages\": [HumanMessage(content=user_request)],\n",
        "        \"city\": \"\",\n",
        "        \"interests\": [],\n",
        "        \"days\": 0,  # Initialize days\n",
        "        \"itineraries\": []  # Initialize an empty list for itineraries\n",
        "    }\n",
        "\n",
        "    for output in app.stream(state):\n",
        "        pass  # The nodes handle the printing"
      ],
      "metadata": {
        "id": "i-jn49B5l0Fc"
      },
      "execution_count": 20,
      "outputs": []
    },
    {
      "cell_type": "code",
      "source": [
        "user_request = \"I want to plan a day trip. Guide me through it\"\n",
        "run_travel_planner(user_request)"
      ],
      "metadata": {
        "colab": {
          "base_uri": "https://localhost:8080/"
        },
        "id": "EnV46SJ8l2m0",
        "outputId": "786714a0-03ff-4942-c156-65c3a216ec24"
      },
      "execution_count": 24,
      "outputs": [
        {
          "output_type": "stream",
          "name": "stdout",
          "text": [
            "Initial Request: I want to plan a day trip. Guide me through it\n",
            "\n",
            "Please enter the city you want to visit for your day trip:\n",
            "Your input: Rome\n",
            "How many days do you plan to stay in Rome?\n",
            "Your input: 2\n",
            "Please enter your interests for the trip to Rome (comma-separated):\n",
            "Your input: italian cuisine\n",
            "Creating itineraries for Rome over 2 days based on interests: italian cuisine...\n",
            "\n",
            "Day 1 Itinerary:\n",
            "## Rome: A Foodie's Paradise - 2-Day Itinerary\n",
            "\n",
            "This itinerary focuses on immersing yourself in the vibrant Italian culinary scene, exploring iconic landmarks, and indulging in authentic flavors.\n",
            "\n",
            "**Day 1: Traditional Flavors & Hidden Gems**\n",
            "\n",
            "**Morning:**\n",
            "\n",
            "* **9:00 AM:** Start your day with a hearty breakfast at **Roscioli Caffè e Pasticceria** (Via dei Giubbonari, 21). Indulge in their famous ricotta and fig jam pastries, or try the traditional Roman breakfast of coffee and maritozzi (sweet bread rolls).\n",
            "* **10:00 AM:** Walk to the **Trastevere** neighborhood, a charming area with cobbled streets, charming squares, and a lively atmosphere.\n",
            "* **10:30 AM:** Take a **food tour** focusing on traditional Roman specialties. This is a great way to sample local delicacies like supplì (fried rice balls), carciofi alla romana (artichoke hearts), and pasta cacio e pepe (cheese and pepper pasta). \n",
            "* **12:30 PM:** Explore the **Campo de' Fiori** market, a bustling hub of fresh produce, local cheeses, and artisanal products. Grab some fresh fruit and local cheeses for a picnic lunch.\n",
            "\n",
            "**Afternoon:**\n",
            "\n",
            "* **1:30 PM:** Enjoy your picnic lunch in the beautiful **Piazza Navona**, surrounded by fountains and street performers.\n",
            "* **2:30 PM:** Visit the **Pantheon**, a stunning architectural marvel. \n",
            "* **3:30 PM:** Take a cooking class in Trastevere, learning to prepare classic Roman dishes like pasta alla gricia or amatriciana. **\"The Roman Cooking School\"** offers immersive hands-on experiences.\n",
            "* **5:30 PM:** Enjoy a delicious dinner at **La Taverna dei Fori Imperiali** (Via dei Fori Imperiali, 1/A), known for its traditional Roman cuisine and beautiful setting near the Roman Forum.\n",
            "\n",
            "**Day 2:  Pizza, Gelato, and Culinary Delights**\n",
            "\n",
            "**Morning:**\n",
            "\n",
            "* **9:00 AM:**  Start your day with a visit to **Antica Pizzeria da Michele** (Via San Biagio dei Librai, 51/53) - a legendary pizzeria known for its simple yet perfect Margherita pizzas.\n",
            "* **10:30 AM:** Take a guided tour of the **Colosseum** and the **Roman Forum**, marveling at the ancient grandeur of the Roman Empire.\n",
            "* **12:30 PM:** Explore the **Jewish Ghetto** neighborhood, a historic area with a rich culinary heritage. \n",
            "\n",
            "**Afternoon:**\n",
            "\n",
            "* **1:30 PM:** Enjoy lunch at **Sora Margherita** (Via del Portico d'Ottavia, 29), a traditional Jewish restaurant serving dishes like artichoke hearts, fried artichokes, and a variety of Roman specialties.\n",
            "* **2:30 PM:** Visit **Trastevere's Testaccio Market**, a lively outdoor market filled with local produce, cheese, and cured meats. Sample some delicious local cheeses and salumi.\n",
            "* **3:30 PM:** Indulge in a gelato tasting at **Gelateria del Teatro** (Via dei Banchi Vecchi, 129). Try their unique and seasonal flavors.\n",
            "* **4:30 PM:** Visit the **Trevi Fountain**, toss a coin for good luck, and admire the stunning Baroque architecture.\n",
            "* **5:30 PM:**  Enjoy a final dinner at **La Pergola** (Via Albricci 119/a)  for an unforgettable fine dining experience with breathtaking views of the city.\n",
            "\n",
            "**Bonus:**\n",
            "\n",
            "* **Night Markets:** Check out the **Mercato Monti** or the **Mercato Centrale** for a vibrant night market experience with food stalls, street food, and live music.\n",
            "* **Wine Tasting:**  Visit a local wine bar or enoteca to sample some of Italy's finest wines.\n",
            "* **Cooking Class:** Learn to make pasta from scratch at a cooking class in Trastevere.\n",
            "\n",
            "**Remember:**\n",
            "\n",
            "* This itinerary is a suggestion and can be customized based on your preferences and budget.\n",
            "* Consider purchasing a Roma Pass for discounted entry to museums and attractions.\n",
            "* Book your cooking classes and tours in advance, especially during peak season.\n",
            "* Wear comfortable shoes, as you'll be doing a lot of walking!\n",
            "* Enjoy the delicious food, the vibrant atmosphere, and the beauty of Rome!\n",
            "\n",
            "Day 2 Itinerary:\n",
            "## Rome in 2 Days: A Culinary Journey\n",
            "\n",
            "This itinerary focuses on immersing you in the vibrant food scene of Rome, with a mix of iconic landmarks and hidden gems.\n",
            "\n",
            "**Day 1: Classic Roman Flavors**\n",
            "\n",
            "* **Morning:**\n",
            "    * **8:00 AM:** Start your day with a delicious breakfast at **Roscioli Caffè**, a traditional Roman bakery known for its pastries, espresso, and fresh bread. Indulge in a cornetto (croissant) and cappuccino.\n",
            "    * **9:00 AM:**  Visit the **Colosseum**, the iconic amphitheater and a must-see for any Rome visitor. Explore the ruins and imagine the gladiatorial battles that once took place here.\n",
            "    * **11:00 AM:**  Walk through the **Roman Forum**, the ruins of ancient Rome's political and social center. Immerse yourself in history and soak in the atmosphere.\n",
            "    * **1:00 PM:** Lunch at **Sora Lella**, a legendary trattoria serving authentic Roman dishes like pasta alla gricia and cacio e pepe. Be prepared for a lively and authentic atmosphere.\n",
            "\n",
            "* **Afternoon:**\n",
            "    * **2:30 PM:**  Visit the **Pantheon**, a marvel of Roman architecture with a breathtaking dome and a rich history.\n",
            "    * **3:30 PM:**  Explore the **Trevi Fountain**, toss a coin for good luck, and admire the intricate Baroque sculpture.\n",
            "    * **4:30 PM:**  Enjoy a gelato break at **Gelateria del Teatro**, known for its artisanal gelato made with fresh ingredients.\n",
            "\n",
            "* **Evening:**\n",
            "    * **6:00 PM:**  Dinner at **Armando al Pantheon**, a classic Roman restaurant serving traditional dishes in a charming setting. Try the artichoke hearts and the lamb chops.\n",
            "    * **8:00 PM:**  Take a relaxing stroll through **Piazza Navona**, a bustling square filled with street performers, artists, and cafes.\n",
            "\n",
            "**Day 2: Beyond the Classics**\n",
            "\n",
            "* **Morning:**\n",
            "    * **9:00 AM:**  Visit the **Vatican Museums**, exploring the vast collection of art and artifacts housed within the Vatican City. Be sure to see the Sistine Chapel and the Raphael Rooms.\n",
            "    * **11:00 AM:**  Have lunch at **La Taverna dei Fori Imperiali**, located in a historic building near the Roman Forum. Enjoy a delicious pasta dish and a glass of local wine.\n",
            "\n",
            "* **Afternoon:**\n",
            "    * **1:00 PM:**  Experience a cooking class at **Flavors of Rome**, learning to prepare classic Roman dishes like pasta carbonara and tiramisu.\n",
            "    * **3:00 PM:**  Explore the **Trastevere**, a charming neighborhood with cobblestone streets, lively bars, and authentic trattorias.\n",
            "\n",
            "* **Evening:**\n",
            "    * **6:00 PM:**  Dinner at **Checchino dal 1887**, a historic restaurant serving traditional Roman dishes with a modern twist. Try the oxtail stew and the lamb chops.\n",
            "    * **8:00 PM:**  Enjoy a nightcap at **Freni e Frizioni**, a popular bar with a unique atmosphere and a wide selection of cocktails.\n",
            "\n",
            "**Additional Tips:**\n",
            "\n",
            "* **Book restaurants in advance**, especially during peak season.\n",
            "* **Learn a few basic Italian phrases**, which will be appreciated by locals.\n",
            "* **Consider a food tour**, which is a great way to sample a variety of Roman specialties.\n",
            "* **Be adventurous and try new things!** Italian cuisine is diverse and delicious. \n",
            "\n",
            "**Enjoy your culinary journey through Rome!** \n",
            "\n"
          ]
        }
      ]
    }
  ]
}